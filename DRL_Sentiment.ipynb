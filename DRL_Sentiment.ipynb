{
  "nbformat": 4,
  "nbformat_minor": 0,
  "metadata": {
    "kernelspec": {
      "display_name": "Python 3",
      "language": "python",
      "name": "python3"
    },
    "language_info": {
      "codemirror_mode": {
        "name": "ipython",
        "version": 3
      },
      "file_extension": ".py",
      "mimetype": "text/x-python",
      "name": "python",
      "nbconvert_exporter": "python",
      "pygments_lexer": "ipython3",
      "version": "3.8.3"
    },
    "colab": {
      "name": "DRL_information.ipynb",
      "provenance": [],
      "collapsed_sections": []
    },
    "accelerator": "GPU"
  },
  "cells": [
    {
      "cell_type": "code",
      "metadata": {
        "colab": {
          "base_uri": "https://localhost:8080/"
        },
        "id": "T5tqpA4ZWbe-",
        "outputId": "16da7d63-c395-4671-e57d-3f5bc2f695b8"
      },
      "source": [
        "from google.colab import drive\n",
        "drive.mount('/content/gdrive')"
      ],
      "execution_count": 58,
      "outputs": [
        {
          "output_type": "stream",
          "text": [
            "Drive already mounted at /content/gdrive; to attempt to forcibly remount, call drive.mount(\"/content/gdrive\", force_remount=True).\n"
          ],
          "name": "stdout"
        }
      ]
    },
    {
      "cell_type": "code",
      "metadata": {
        "_cell_guid": "79c7e3d0-c299-4dcb-8224-4455121ee9b0",
        "_uuid": "d629ff2d2480ee46fbb7e2d37f6b5fab8052498a",
        "execution": {
          "iopub.execute_input": "2021-05-25T13:08:30.517289Z",
          "iopub.status.busy": "2021-05-25T13:08:30.516934Z",
          "iopub.status.idle": "2021-05-25T13:08:57.570775Z",
          "shell.execute_reply": "2021-05-25T13:08:57.569424Z",
          "shell.execute_reply.started": "2021-05-25T13:08:30.517241Z"
        },
        "colab": {
          "base_uri": "https://localhost:8080/"
        },
        "id": "gmbcWjpex7df",
        "outputId": "718cf527-e9a2-4163-81ed-640ac348e588"
      },
      "source": [
        "import tensorflow as tf\n",
        "import matplotlib.pyplot as plt\n",
        "import pandas as pd\n",
        "import numpy as np\n",
        "import tensorflow_datasets as tfds\n",
        "import nltk \n",
        "import re\n",
        "from nltk.corpus import stopwords\n",
        "from nltk.stem import SnowballStemmer\n",
        "from sklearn.model_selection import train_test_split\n",
        "from sklearn.preprocessing import LabelEncoder\n",
        "\n",
        "nltk.download('stopwords')\n",
        "print(\"Tensorflow Version\",tf.__version__)"
      ],
      "execution_count": 2,
      "outputs": [
        {
          "output_type": "stream",
          "text": [
            "[nltk_data] Downloading package stopwords to /root/nltk_data...\n",
            "[nltk_data]   Unzipping corpora/stopwords.zip.\n",
            "Tensorflow Version 2.5.0\n"
          ],
          "name": "stdout"
        }
      ]
    },
    {
      "cell_type": "code",
      "metadata": {
        "colab": {
          "base_uri": "https://localhost:8080/",
          "height": 598
        },
        "id": "rvd8i68fWs6l",
        "outputId": "b8b17918-c705-4df0-c836-385b4baeb7a9"
      },
      "source": [
        "# df = pd.read_csv('/content/gdrive/MyDrive/data/news_train_from2013.csv 的副本',\n",
        "#                  encoding = 'latin',header=0)\n",
        "# df = df.drop(['time', 'sourceTimestamp', 'firstCreated', 'sourceId', 'urgency', 'takeSequence','provider','subjects','audiences','bodySize',\n",
        "#               \"Unnamed: 0\",\"companyCount\",\"headlineTag\",\"marketCommentary\",\"assetCodes\",\"assetName\",\"firstMentionSentence\",\"noveltyCount12H\",\n",
        "#               \"noveltyCount24H\",\"noveltyCount3D\",\"noveltyCount5D\",\"noveltyCount7D\",\"volumeCounts12H\",\"volumeCounts24H\",\"volumeCounts3D\",\"volumeCounts5D\",\"volumeCounts7D\"], axis=1)\n",
        "# df.head()\n",
        "# df.to_csv('/content/gdrive/MyDrive/news_train_from2013.csv')\n",
        "\n",
        "df = pd.read_csv('/content/gdrive/MyDrive/news_train_from2013.csv',\n",
        "                 encoding = 'latin',header=0)\n",
        "df.head()"
      ],
      "execution_count": 33,
      "outputs": [
        {
          "output_type": "execute_result",
          "data": {
            "text/html": [
              "<div>\n",
              "<style scoped>\n",
              "    .dataframe tbody tr th:only-of-type {\n",
              "        vertical-align: middle;\n",
              "    }\n",
              "\n",
              "    .dataframe tbody tr th {\n",
              "        vertical-align: top;\n",
              "    }\n",
              "\n",
              "    .dataframe thead th {\n",
              "        text-align: right;\n",
              "    }\n",
              "</style>\n",
              "<table border=\"1\" class=\"dataframe\">\n",
              "  <thead>\n",
              "    <tr style=\"text-align: right;\">\n",
              "      <th></th>\n",
              "      <th>Unnamed: 0</th>\n",
              "      <th>headline</th>\n",
              "      <th>sentenceCount</th>\n",
              "      <th>wordCount</th>\n",
              "      <th>relevance</th>\n",
              "      <th>sentimentClass</th>\n",
              "      <th>sentimentNegative</th>\n",
              "      <th>sentimentNeutral</th>\n",
              "      <th>sentimentPositive</th>\n",
              "      <th>sentimentWordCount</th>\n",
              "    </tr>\n",
              "  </thead>\n",
              "  <tbody>\n",
              "    <tr>\n",
              "      <th>0</th>\n",
              "      <td>0</td>\n",
              "      <td>China's Daqing pumps 43.41 mln tonnes of oil i...</td>\n",
              "      <td>11</td>\n",
              "      <td>275</td>\n",
              "      <td>0.235702</td>\n",
              "      <td>-1</td>\n",
              "      <td>0.500739</td>\n",
              "      <td>0.419327</td>\n",
              "      <td>0.079934</td>\n",
              "      <td>73</td>\n",
              "    </tr>\n",
              "    <tr>\n",
              "      <th>1</th>\n",
              "      <td>1</td>\n",
              "      <td>FEATURE-In kidnapping, finesse works best</td>\n",
              "      <td>55</td>\n",
              "      <td>907</td>\n",
              "      <td>0.447214</td>\n",
              "      <td>-1</td>\n",
              "      <td>0.600082</td>\n",
              "      <td>0.345853</td>\n",
              "      <td>0.054064</td>\n",
              "      <td>62</td>\n",
              "    </tr>\n",
              "    <tr>\n",
              "      <th>2</th>\n",
              "      <td>2</td>\n",
              "      <td>PRESS DIGEST - Wall Street Journal - Jan 1</td>\n",
              "      <td>15</td>\n",
              "      <td>388</td>\n",
              "      <td>0.377964</td>\n",
              "      <td>-1</td>\n",
              "      <td>0.450049</td>\n",
              "      <td>0.295671</td>\n",
              "      <td>0.254280</td>\n",
              "      <td>67</td>\n",
              "    </tr>\n",
              "    <tr>\n",
              "      <th>3</th>\n",
              "      <td>3</td>\n",
              "      <td>PRESS DIGEST - New York Times - Jan 1</td>\n",
              "      <td>14</td>\n",
              "      <td>325</td>\n",
              "      <td>0.149071</td>\n",
              "      <td>-1</td>\n",
              "      <td>0.752917</td>\n",
              "      <td>0.162715</td>\n",
              "      <td>0.084368</td>\n",
              "      <td>83</td>\n",
              "    </tr>\n",
              "    <tr>\n",
              "      <th>4</th>\n",
              "      <td>4</td>\n",
              "      <td>PRESS DIGEST - New York Times - Jan 1</td>\n",
              "      <td>14</td>\n",
              "      <td>325</td>\n",
              "      <td>0.149071</td>\n",
              "      <td>-1</td>\n",
              "      <td>0.699274</td>\n",
              "      <td>0.209360</td>\n",
              "      <td>0.091367</td>\n",
              "      <td>102</td>\n",
              "    </tr>\n",
              "  </tbody>\n",
              "</table>\n",
              "</div>"
            ],
            "text/plain": [
              "   Unnamed: 0  ... sentimentWordCount\n",
              "0           0  ...                 73\n",
              "1           1  ...                 62\n",
              "2           2  ...                 67\n",
              "3           3  ...                 83\n",
              "4           4  ...                102\n",
              "\n",
              "[5 rows x 10 columns]"
            ]
          },
          "metadata": {
            "tags": []
          },
          "execution_count": 33
        }
      ]
    },
    {
      "cell_type": "code",
      "metadata": {
        "colab": {
          "base_uri": "https://localhost:8080/",
          "height": 204
        },
        "id": "H1Nm-MjBkpSL",
        "outputId": "b36501b3-afb8-49f9-8019-406e75f69e25"
      },
      "source": [
        "lab_to_sentiment = {-1:\"Negative\",0:\"Neutral\", 1:\"Positive\"}\n",
        "def label_decoder(label):\n",
        "  return lab_to_sentiment[label]\n",
        "df.sentimentClass = df.sentimentClass.apply(lambda x: label_decoder(x))\n",
        "df = df.drop(['sentenceCount', 'wordCount', 'sentimentNegative', 'sentimentNeutral', 'sentimentPositive', 'sentimentWordCount','relevance'], axis=1)\n",
        "df.head()"
      ],
      "execution_count": 34,
      "outputs": [
        {
          "output_type": "execute_result",
          "data": {
            "text/html": [
              "<div>\n",
              "<style scoped>\n",
              "    .dataframe tbody tr th:only-of-type {\n",
              "        vertical-align: middle;\n",
              "    }\n",
              "\n",
              "    .dataframe tbody tr th {\n",
              "        vertical-align: top;\n",
              "    }\n",
              "\n",
              "    .dataframe thead th {\n",
              "        text-align: right;\n",
              "    }\n",
              "</style>\n",
              "<table border=\"1\" class=\"dataframe\">\n",
              "  <thead>\n",
              "    <tr style=\"text-align: right;\">\n",
              "      <th></th>\n",
              "      <th>Unnamed: 0</th>\n",
              "      <th>headline</th>\n",
              "      <th>sentimentClass</th>\n",
              "    </tr>\n",
              "  </thead>\n",
              "  <tbody>\n",
              "    <tr>\n",
              "      <th>0</th>\n",
              "      <td>0</td>\n",
              "      <td>China's Daqing pumps 43.41 mln tonnes of oil i...</td>\n",
              "      <td>Negative</td>\n",
              "    </tr>\n",
              "    <tr>\n",
              "      <th>1</th>\n",
              "      <td>1</td>\n",
              "      <td>FEATURE-In kidnapping, finesse works best</td>\n",
              "      <td>Negative</td>\n",
              "    </tr>\n",
              "    <tr>\n",
              "      <th>2</th>\n",
              "      <td>2</td>\n",
              "      <td>PRESS DIGEST - Wall Street Journal - Jan 1</td>\n",
              "      <td>Negative</td>\n",
              "    </tr>\n",
              "    <tr>\n",
              "      <th>3</th>\n",
              "      <td>3</td>\n",
              "      <td>PRESS DIGEST - New York Times - Jan 1</td>\n",
              "      <td>Negative</td>\n",
              "    </tr>\n",
              "    <tr>\n",
              "      <th>4</th>\n",
              "      <td>4</td>\n",
              "      <td>PRESS DIGEST - New York Times - Jan 1</td>\n",
              "      <td>Negative</td>\n",
              "    </tr>\n",
              "  </tbody>\n",
              "</table>\n",
              "</div>"
            ],
            "text/plain": [
              "   Unnamed: 0                                           headline sentimentClass\n",
              "0           0  China's Daqing pumps 43.41 mln tonnes of oil i...       Negative\n",
              "1           1          FEATURE-In kidnapping, finesse works best       Negative\n",
              "2           2         PRESS DIGEST - Wall Street Journal - Jan 1       Negative\n",
              "3           3              PRESS DIGEST - New York Times - Jan 1       Negative\n",
              "4           4              PRESS DIGEST - New York Times - Jan 1       Negative"
            ]
          },
          "metadata": {
            "tags": []
          },
          "execution_count": 34
        }
      ]
    },
    {
      "cell_type": "code",
      "metadata": {
        "colab": {
          "base_uri": "https://localhost:8080/",
          "height": 298
        },
        "id": "YYJr6lnaQBNB",
        "outputId": "7139fac2-cf1f-4e51-c887-f8bd31705a06"
      },
      "source": [
        "val_count = df.sentimentClass.value_counts()\n",
        "\n",
        "plt.figure(figsize=(8,4))\n",
        "plt.bar(val_count.index, val_count.values)\n",
        "plt.title(\"Sentiment Data Distribution\")"
      ],
      "execution_count": null,
      "outputs": [
        {
          "output_type": "execute_result",
          "data": {
            "text/plain": [
              "Text(0.5, 1.0, 'Sentiment Data Distribution')"
            ]
          },
          "metadata": {
            "tags": []
          },
          "execution_count": 5
        },
        {
          "output_type": "display_data",
          "data": {
            "image/png": "[encoded data removed]",
            "text/plain": [
              "<Figure size 576x288 with 1 Axes>"
            ]
          },
          "metadata": {
            "tags": [],
            "needs_background": "light"
          }
        }
      ]
    },
    {
      "cell_type": "code",
      "metadata": {
        "colab": {
          "base_uri": "https://localhost:8080/",
          "height": 204
        },
        "id": "-9itJ9rSekH8",
        "outputId": "3b24806b-ebf7-435a-b07e-d23b7dd4cc3d"
      },
      "source": [
        "def toString(text):\n",
        "  return str(text)\n",
        "\n",
        "df.headline = df.headline.apply(lambda x: toString(x))\n",
        "df.head()"
      ],
      "execution_count": 35,
      "outputs": [
        {
          "output_type": "execute_result",
          "data": {
            "text/html": [
              "<div>\n",
              "<style scoped>\n",
              "    .dataframe tbody tr th:only-of-type {\n",
              "        vertical-align: middle;\n",
              "    }\n",
              "\n",
              "    .dataframe tbody tr th {\n",
              "        vertical-align: top;\n",
              "    }\n",
              "\n",
              "    .dataframe thead th {\n",
              "        text-align: right;\n",
              "    }\n",
              "</style>\n",
              "<table border=\"1\" class=\"dataframe\">\n",
              "  <thead>\n",
              "    <tr style=\"text-align: right;\">\n",
              "      <th></th>\n",
              "      <th>Unnamed: 0</th>\n",
              "      <th>headline</th>\n",
              "      <th>sentimentClass</th>\n",
              "    </tr>\n",
              "  </thead>\n",
              "  <tbody>\n",
              "    <tr>\n",
              "      <th>0</th>\n",
              "      <td>0</td>\n",
              "      <td>China's Daqing pumps 43.41 mln tonnes of oil i...</td>\n",
              "      <td>Negative</td>\n",
              "    </tr>\n",
              "    <tr>\n",
              "      <th>1</th>\n",
              "      <td>1</td>\n",
              "      <td>FEATURE-In kidnapping, finesse works best</td>\n",
              "      <td>Negative</td>\n",
              "    </tr>\n",
              "    <tr>\n",
              "      <th>2</th>\n",
              "      <td>2</td>\n",
              "      <td>PRESS DIGEST - Wall Street Journal - Jan 1</td>\n",
              "      <td>Negative</td>\n",
              "    </tr>\n",
              "    <tr>\n",
              "      <th>3</th>\n",
              "      <td>3</td>\n",
              "      <td>PRESS DIGEST - New York Times - Jan 1</td>\n",
              "      <td>Negative</td>\n",
              "    </tr>\n",
              "    <tr>\n",
              "      <th>4</th>\n",
              "      <td>4</td>\n",
              "      <td>PRESS DIGEST - New York Times - Jan 1</td>\n",
              "      <td>Negative</td>\n",
              "    </tr>\n",
              "  </tbody>\n",
              "</table>\n",
              "</div>"
            ],
            "text/plain": [
              "   Unnamed: 0                                           headline sentimentClass\n",
              "0           0  China's Daqing pumps 43.41 mln tonnes of oil i...       Negative\n",
              "1           1          FEATURE-In kidnapping, finesse works best       Negative\n",
              "2           2         PRESS DIGEST - Wall Street Journal - Jan 1       Negative\n",
              "3           3              PRESS DIGEST - New York Times - Jan 1       Negative\n",
              "4           4              PRESS DIGEST - New York Times - Jan 1       Negative"
            ]
          },
          "metadata": {
            "tags": []
          },
          "execution_count": 35
        }
      ]
    },
    {
      "cell_type": "markdown",
      "metadata": {
        "id": "xPCaN00mx7dv"
      },
      "source": [
        "## Train and Test Split"
      ]
    },
    {
      "cell_type": "code",
      "metadata": {
        "execution": {
          "iopub.execute_input": "2021-05-25T15:30:59.376261Z",
          "iopub.status.busy": "2021-05-25T15:30:59.375646Z",
          "iopub.status.idle": "2021-05-25T15:30:59.382560Z",
          "shell.execute_reply": "2021-05-25T15:30:59.380587Z",
          "shell.execute_reply.started": "2021-05-25T15:30:59.376160Z"
        },
        "id": "_8s-bNwix7dv"
      },
      "source": [
        "TRAIN_SIZE = 0.8\n",
        "MAX_NB_WORDS = 100000\n",
        "MAX_SEQUENCE_LENGTH = 30"
      ],
      "execution_count": 36,
      "outputs": []
    },
    {
      "cell_type": "code",
      "metadata": {
        "execution": {
          "iopub.execute_input": "2021-05-25T15:30:59.384846Z",
          "iopub.status.busy": "2021-05-25T15:30:59.384461Z",
          "iopub.status.idle": "2021-05-25T15:30:59.957430Z",
          "shell.execute_reply": "2021-05-25T15:30:59.956329Z",
          "shell.execute_reply.started": "2021-05-25T15:30:59.384791Z"
        },
        "colab": {
          "base_uri": "https://localhost:8080/"
        },
        "id": "zuwlqOVqx7dw",
        "outputId": "4e798fce-7639-4457-971b-f88bd96232f3"
      },
      "source": [
        "train_data, test_data = train_test_split(df, test_size=1-TRAIN_SIZE, random_state=6)\n",
        "print(\"Train Data size:\", len(train_data))\n",
        "print(\"Test Data size\", len(test_data))"
      ],
      "execution_count": 37,
      "outputs": [
        {
          "output_type": "stream",
          "text": [
            "Train Data size: 7463000\n",
            "Test Data size 1865750\n"
          ],
          "name": "stdout"
        }
      ]
    },
    {
      "cell_type": "code",
      "metadata": {
        "execution": {
          "iopub.execute_input": "2021-05-25T15:31:06.541735Z",
          "iopub.status.busy": "2021-05-25T15:31:06.541329Z",
          "iopub.status.idle": "2021-05-25T15:31:34.445568Z",
          "shell.execute_reply": "2021-05-25T15:31:34.444289Z",
          "shell.execute_reply.started": "2021-05-25T15:31:06.541676Z"
        },
        "colab": {
          "base_uri": "https://localhost:8080/"
        },
        "id": "c-rz0XeOx7dx",
        "outputId": "a2bfeb88-8d58-4349-8081-1ab7033333e8"
      },
      "source": [
        "from keras.preprocessing.text import Tokenizer\n",
        "\n",
        "tokenizer = Tokenizer()\n",
        "tokenizer.fit_on_texts(train_data.headline)\n",
        "\n",
        "word_index = tokenizer.word_index\n",
        "vocab_size = len(tokenizer.word_index) + 1\n",
        "print(\"Vocabulary Size :\", vocab_size)"
      ],
      "execution_count": 38,
      "outputs": [
        {
          "output_type": "stream",
          "text": [
            "Vocabulary Size : 307107\n"
          ],
          "name": "stdout"
        }
      ]
    },
    {
      "cell_type": "code",
      "metadata": {
        "execution": {
          "iopub.execute_input": "2021-05-25T15:31:34.448145Z",
          "iopub.status.busy": "2021-05-25T15:31:34.447795Z",
          "iopub.status.idle": "2021-05-25T15:32:17.223656Z",
          "shell.execute_reply": "2021-05-25T15:32:17.222268Z",
          "shell.execute_reply.started": "2021-05-25T15:31:34.448097Z"
        },
        "colab": {
          "base_uri": "https://localhost:8080/"
        },
        "id": "Sh8vnCfUx7dx",
        "outputId": "692cdc51-4301-45bb-94a3-88504eeaaf28"
      },
      "source": [
        "from keras.preprocessing.sequence import pad_sequences\n",
        "\n",
        "x_train = pad_sequences(tokenizer.texts_to_sequences(train_data.headline),\n",
        "                        maxlen = MAX_SEQUENCE_LENGTH)\n",
        "x_test = pad_sequences(tokenizer.texts_to_sequences(test_data.headline),\n",
        "                       maxlen = MAX_SEQUENCE_LENGTH)\n",
        "\n",
        "print(\"Training X Shape:\",x_train.shape)\n",
        "print(\"Testing X Shape:\",x_test.shape)"
      ],
      "execution_count": 39,
      "outputs": [
        {
          "output_type": "stream",
          "text": [
            "Training X Shape: (7463000, 30)\n",
            "Testing X Shape: (1865750, 30)\n"
          ],
          "name": "stdout"
        }
      ]
    },
    {
      "cell_type": "code",
      "metadata": {
        "execution": {
          "iopub.execute_input": "2021-05-25T15:32:17.226101Z",
          "iopub.status.busy": "2021-05-25T15:32:17.225452Z",
          "iopub.status.idle": "2021-05-25T15:32:17.287904Z",
          "shell.execute_reply": "2021-05-25T15:32:17.286938Z",
          "shell.execute_reply.started": "2021-05-25T15:32:17.226036Z"
        },
        "id": "LohBQXeex7dy"
      },
      "source": [
        "labels = train_data.sentimentClass.unique().tolist()"
      ],
      "execution_count": null,
      "outputs": []
    },
    {
      "cell_type": "code",
      "metadata": {
        "execution": {
          "iopub.execute_input": "2021-05-25T15:32:17.289965Z",
          "iopub.status.busy": "2021-05-25T15:32:17.289338Z",
          "iopub.status.idle": "2021-05-25T15:32:18.374197Z",
          "shell.execute_reply": "2021-05-25T15:32:18.373013Z",
          "shell.execute_reply.started": "2021-05-25T15:32:17.289902Z"
        },
        "colab": {
          "base_uri": "https://localhost:8080/"
        },
        "id": "GGcVxBg2x7dy",
        "outputId": "a84fad9f-fd50-4b07-ee5b-5f1f217ac002"
      },
      "source": [
        "encoder = LabelEncoder()\n",
        "encoder.fit(train_data.sentimentClass.to_list())\n",
        "\n",
        "y_train = encoder.transform(train_data.sentimentClass.to_list())\n",
        "y_test = encoder.transform(test_data.sentimentClass.to_list())\n",
        "\n",
        "y_train = y_train.reshape(-1,1)\n",
        "y_test = y_test.reshape(-1,1)\n",
        "\n",
        "y_train = tf.keras.utils.to_categorical(y_train, 3)\n",
        "y_test = tf.keras.utils.to_categorical(y_test, 3)\n",
        "\n",
        "print(\"y_train shape:\", y_train.shape)\n",
        "print(\"y_test shape:\", y_test.shape)\n",
        "\n",
        "\n"
      ],
      "execution_count": null,
      "outputs": [
        {
          "output_type": "stream",
          "text": [
            "y_train shape: (7463000, 3)\n",
            "y_test shape: (1865750, 3)\n"
          ],
          "name": "stdout"
        }
      ]
    },
    {
      "cell_type": "code",
      "metadata": {
        "colab": {
          "base_uri": "https://localhost:8080/"
        },
        "id": "cnzIAEdR45vV",
        "outputId": "8dcc66f7-76fd-405e-9076-b33063400614"
      },
      "source": [
        "!wget http://nlp.stanford.edu/data/glove.6B.zip\n",
        "!unzip glove.6B.zip"
      ],
      "execution_count": null,
      "outputs": [
        {
          "output_type": "stream",
          "text": [
            "--2021-05-29 11:53:15--  http://nlp.stanford.edu/data/glove.6B.zip\n",
            "Resolving nlp.stanford.edu (nlp.stanford.edu)... 171.64.67.140\n",
            "Connecting to nlp.stanford.edu (nlp.stanford.edu)|171.64.67.140|:80... connected.\n",
            "HTTP request sent, awaiting response... 302 Found\n",
            "Location: https://nlp.stanford.edu/data/glove.6B.zip [following]\n",
            "--2021-05-29 11:53:15--  https://nlp.stanford.edu/data/glove.6B.zip\n",
            "Connecting to nlp.stanford.edu (nlp.stanford.edu)|171.64.67.140|:443... connected.\n",
            "HTTP request sent, awaiting response... 301 Moved Permanently\n",
            "Location: http://downloads.cs.stanford.edu/nlp/data/glove.6B.zip [following]\n",
            "--2021-05-29 11:53:15--  http://downloads.cs.stanford.edu/nlp/data/glove.6B.zip\n",
            "Resolving downloads.cs.stanford.edu (downloads.cs.stanford.edu)... 171.64.64.22\n",
            "Connecting to downloads.cs.stanford.edu (downloads.cs.stanford.edu)|171.64.64.22|:80... connected.\n",
            "HTTP request sent, awaiting response... 200 OK\n",
            "Length: 862182613 (822M) [application/zip]\n",
            "Saving to: ‘glove.6B.zip’\n",
            "\n",
            "glove.6B.zip        100%[===================>] 822.24M  5.13MB/s    in 2m 39s  \n",
            "\n",
            "2021-05-29 11:55:54 (5.16 MB/s) - ‘glove.6B.zip’ saved [862182613/862182613]\n",
            "\n",
            "Archive:  glove.6B.zip\n",
            "  inflating: glove.6B.50d.txt        \n",
            "  inflating: glove.6B.100d.txt       \n",
            "  inflating: glove.6B.200d.txt       \n",
            "  inflating: glove.6B.300d.txt       \n"
          ],
          "name": "stdout"
        }
      ]
    },
    {
      "cell_type": "code",
      "metadata": {
        "id": "MdFvxn6TCqJK"
      },
      "source": [
        "!cp 'glove.6B.300d.txt' '/content/gdrive/MyDrive/glove.6B.300d.txt'"
      ],
      "execution_count": null,
      "outputs": []
    },
    {
      "cell_type": "code",
      "metadata": {
        "execution": {
          "iopub.execute_input": "2021-05-25T15:32:19.193957Z",
          "iopub.status.busy": "2021-05-25T15:32:19.193235Z",
          "iopub.status.idle": "2021-05-25T15:32:19.200240Z",
          "shell.execute_reply": "2021-05-25T15:32:19.199137Z",
          "shell.execute_reply.started": "2021-05-25T15:32:19.193887Z"
        },
        "id": "xQVK6caNx7dy"
      },
      "source": [
        "GLOVE_EMB = '/content/gdrive/MyDrive/glove.6B.300d.txt'\n",
        "# GLOVE_EMB = 'glove.6B.300d.txt'\n",
        "EMBEDDING_DIM = 300\n",
        "LR = 1e-3\n",
        "BATCH_SIZE = 1024\n",
        "EPOCHS = 10\n",
        "MODEL_PATH = 'best_model.hdf5'"
      ],
      "execution_count": null,
      "outputs": []
    },
    {
      "cell_type": "code",
      "metadata": {
        "execution": {
          "iopub.execute_input": "2021-05-25T15:32:23.430078Z",
          "iopub.status.busy": "2021-05-25T15:32:23.429638Z",
          "iopub.status.idle": "2021-05-25T15:33:18.545769Z",
          "shell.execute_reply": "2021-05-25T15:33:18.544517Z",
          "shell.execute_reply.started": "2021-05-25T15:32:23.429982Z"
        },
        "colab": {
          "base_uri": "https://localhost:8080/"
        },
        "id": "_zfZwDRMx7dz",
        "outputId": "426c0fb5-b0b7-49d5-e5e6-78d213ae8f2d"
      },
      "source": [
        "embeddings_index = {}\n",
        "\n",
        "f = open(GLOVE_EMB)\n",
        "for line in f:\n",
        "  values = line.split()\n",
        "  word = value = values[0]\n",
        "  coefs = np.asarray(values[1:], dtype='float32')\n",
        "  embeddings_index[word] = coefs\n",
        "f.close()\n",
        "\n",
        "print('Found %s word vectors.' %len(embeddings_index))"
      ],
      "execution_count": null,
      "outputs": [
        {
          "output_type": "stream",
          "text": [
            "Found 400000 word vectors.\n"
          ],
          "name": "stdout"
        }
      ]
    },
    {
      "cell_type": "code",
      "metadata": {
        "execution": {
          "iopub.execute_input": "2021-05-25T15:33:18.548238Z",
          "iopub.status.busy": "2021-05-25T15:33:18.547892Z",
          "iopub.status.idle": "2021-05-25T15:33:19.532271Z",
          "shell.execute_reply": "2021-05-25T15:33:19.531189Z",
          "shell.execute_reply.started": "2021-05-25T15:33:18.548177Z"
        },
        "id": "F17kjrWDx7dz"
      },
      "source": [
        "embedding_matrix = np.zeros((vocab_size, EMBEDDING_DIM))\n",
        "for word, i in word_index.items():\n",
        "  embedding_vector = embeddings_index.get(word)\n",
        "  if embedding_vector is not None:\n",
        "    embedding_matrix[i] = embedding_vector"
      ],
      "execution_count": null,
      "outputs": []
    },
    {
      "cell_type": "code",
      "metadata": {
        "execution": {
          "iopub.execute_input": "2021-05-25T15:33:19.534230Z",
          "iopub.status.busy": "2021-05-25T15:33:19.533836Z",
          "iopub.status.idle": "2021-05-25T15:33:19.541109Z",
          "shell.execute_reply": "2021-05-25T15:33:19.539445Z",
          "shell.execute_reply.started": "2021-05-25T15:33:19.534171Z"
        },
        "id": "rEpfG_KEx7dz"
      },
      "source": [
        "embedding_layer = tf.keras.layers.Embedding(vocab_size,            \n",
        "                      EMBEDDING_DIM,\n",
        "                      weights=[embedding_matrix],\n",
        "                      input_length=MAX_SEQUENCE_LENGTH,\n",
        "                      trainable=False,\n",
        "                )"
      ],
      "execution_count": null,
      "outputs": []
    },
    {
      "cell_type": "code",
      "metadata": {
        "execution": {
          "iopub.execute_input": "2021-05-25T15:33:19.543742Z",
          "iopub.status.busy": "2021-05-25T15:33:19.543206Z",
          "iopub.status.idle": "2021-05-25T15:33:19.560562Z",
          "shell.execute_reply": "2021-05-25T15:33:19.559046Z",
          "shell.execute_reply.started": "2021-05-25T15:33:19.543668Z"
        },
        "id": "tq_Qd4Kjx7d0"
      },
      "source": [
        "from tensorflow.keras.layers import Conv1D, Bidirectional, LSTM, Dense, Input, Dropout\n",
        "from tensorflow.keras.layers import SpatialDropout1D\n",
        "from tensorflow.keras.callbacks import ModelCheckpoint"
      ],
      "execution_count": null,
      "outputs": []
    },
    {
      "cell_type": "code",
      "metadata": {
        "execution": {
          "iopub.execute_input": "2021-05-25T15:33:19.564032Z",
          "iopub.status.busy": "2021-05-25T15:33:19.563528Z",
          "iopub.status.idle": "2021-05-25T15:33:22.376142Z",
          "shell.execute_reply": "2021-05-25T15:33:22.374965Z",
          "shell.execute_reply.started": "2021-05-25T15:33:19.563956Z"
        },
        "id": "rKAk8mxOx7d0",
        "colab": {
          "base_uri": "https://localhost:8080/"
        },
        "outputId": "24eba572-f048-4b8d-85ca-6e50f75b33a1"
      },
      "source": [
        "sequence_input = Input(shape=(MAX_SEQUENCE_LENGTH,), dtype='int32')\n",
        "embedding_sequences = embedding_layer(sequence_input)\n",
        "x = SpatialDropout1D(0.2)(embedding_sequences)\n",
        "x = Conv1D(64, 5, activation='relu')(x)\n",
        "x = Bidirectional(LSTM(64, dropout=0.2, recurrent_dropout=0.2))(x)\n",
        "x = tf.keras.layers.Dense(512, activation='relu')(x)\n",
        "x = Dropout(0.5)(x)\n",
        "x = tf.keras.layers.Dense(512, activation='relu')(x)\n",
        "outputs = tf.keras.layers.Dense(3, activation='softmax')(x)\n",
        "model = tf.keras.Model(sequence_input, outputs)\n"
      ],
      "execution_count": null,
      "outputs": [
        {
          "output_type": "stream",
          "text": [
            "WARNING:tensorflow:Layer lstm will not use cuDNN kernels since it doesn't meet the criteria. It will use a generic GPU kernel as fallback when running on GPU.\n",
            "WARNING:tensorflow:Layer lstm will not use cuDNN kernels since it doesn't meet the criteria. It will use a generic GPU kernel as fallback when running on GPU.\n",
            "WARNING:tensorflow:Layer lstm will not use cuDNN kernels since it doesn't meet the criteria. It will use a generic GPU kernel as fallback when running on GPU.\n"
          ],
          "name": "stdout"
        }
      ]
    },
    {
      "cell_type": "code",
      "metadata": {
        "execution": {
          "iopub.execute_input": "2021-05-25T15:33:22.379328Z",
          "iopub.status.busy": "2021-05-25T15:33:22.378706Z",
          "iopub.status.idle": "2021-05-25T15:33:22.432486Z",
          "shell.execute_reply": "2021-05-25T15:33:22.431448Z",
          "shell.execute_reply.started": "2021-05-25T15:33:22.379231Z"
        },
        "id": "rqcTTFQLx7d0"
      },
      "source": [
        "from tensorflow.keras.optimizers import Adam\n",
        "from tensorflow.keras.callbacks import ReduceLROnPlateau\n",
        "\n",
        "model.compile(optimizer=Adam(learning_rate=LR), loss='categorical_crossentropy',\n",
        "              metrics=['accuracy'])"
      ],
      "execution_count": null,
      "outputs": []
    },
    {
      "cell_type": "code",
      "metadata": {
        "execution": {
          "iopub.execute_input": "2021-05-25T15:33:22.434521Z",
          "iopub.status.busy": "2021-05-25T15:33:22.434038Z",
          "iopub.status.idle": "2021-05-25T17:12:13.816716Z",
          "shell.execute_reply": "2021-05-25T17:12:13.814497Z",
          "shell.execute_reply.started": "2021-05-25T15:33:22.434438Z"
        },
        "colab": {
          "base_uri": "https://localhost:8080/"
        },
        "id": "O_QwUpetx7d0",
        "outputId": "52d4d4da-a5e3-4fce-8198-3ef63808cd81"
      },
      "source": [
        "history = model.fit(x_train, y_train, batch_size=BATCH_SIZE, epochs=EPOCHS,\n",
        "                    validation_data=(x_test, y_test))"
      ],
      "execution_count": null,
      "outputs": [
        {
          "output_type": "stream",
          "text": [
            "Epoch 1/10\n",
            "7289/7289 [==============================] - 1910s 257ms/step - loss: 0.6920 - accuracy: 0.6902 - val_loss: 0.6330 - val_accuracy: 0.7187\n",
            "Epoch 2/10\n",
            "7289/7289 [==============================] - 1852s 254ms/step - loss: 0.6455 - accuracy: 0.7143 - val_loss: 0.6155 - val_accuracy: 0.7297\n",
            "Epoch 3/10\n",
            "7289/7289 [==============================] - 1848s 254ms/step - loss: 0.6334 - accuracy: 0.7205 - val_loss: 0.6067 - val_accuracy: 0.7330\n",
            "Epoch 4/10\n",
            "7289/7289 [==============================] - 1850s 254ms/step - loss: 0.6273 - accuracy: 0.7235 - val_loss: 0.6010 - val_accuracy: 0.7369\n",
            "Epoch 5/10\n",
            "7289/7289 [==============================] - 1844s 253ms/step - loss: 0.6229 - accuracy: 0.7258 - val_loss: 0.5977 - val_accuracy: 0.7385\n",
            "Epoch 6/10\n",
            "7289/7289 [==============================] - 1900s 261ms/step - loss: 0.6202 - accuracy: 0.7271 - val_loss: 0.5934 - val_accuracy: 0.7399\n",
            "Epoch 7/10\n",
            "7289/7289 [==============================] - 1884s 259ms/step - loss: 0.6178 - accuracy: 0.7283 - val_loss: 0.5945 - val_accuracy: 0.7410\n",
            "Epoch 8/10\n",
            "7289/7289 [==============================] - 1869s 256ms/step - loss: 0.6162 - accuracy: 0.7290 - val_loss: 0.5903 - val_accuracy: 0.7420\n",
            "Epoch 9/10\n",
            "7289/7289 [==============================] - 1864s 256ms/step - loss: 0.6145 - accuracy: 0.7298 - val_loss: 0.5901 - val_accuracy: 0.7427\n",
            "Epoch 10/10\n",
            "7289/7289 [==============================] - 1830s 251ms/step - loss: 0.6134 - accuracy: 0.7305 - val_loss: 0.5876 - val_accuracy: 0.7430\n"
          ],
          "name": "stdout"
        }
      ]
    },
    {
      "cell_type": "code",
      "metadata": {
        "id": "UBqqLBA9uIKu"
      },
      "source": [
        "model.save('/content/gdrive/MyDrive/news_train_from2013_model_3.h5')"
      ],
      "execution_count": null,
      "outputs": []
    },
    {
      "cell_type": "code",
      "metadata": {
        "id": "YjE5aDhePMb7"
      },
      "source": [
        "model.save_weights('/content/gdrive/MyDrive/news_train_from2013_model_3_weights.h5')"
      ],
      "execution_count": null,
      "outputs": []
    },
    {
      "cell_type": "code",
      "metadata": {
        "execution": {
          "iopub.execute_input": "2021-05-25T15:02:40.745954Z",
          "iopub.status.busy": "2021-05-25T15:02:40.745589Z",
          "iopub.status.idle": "2021-05-25T15:02:41.608744Z",
          "shell.execute_reply": "2021-05-25T15:02:41.607744Z",
          "shell.execute_reply.started": "2021-05-25T15:02:40.745896Z"
        },
        "colab": {
          "base_uri": "https://localhost:8080/",
          "height": 312
        },
        "id": "6MeUHIbex7d1",
        "outputId": "42f88af2-e431-4704-e6ea-4991c83c7ab3"
      },
      "source": [
        "s, (at, al) = plt.subplots(2,1)\n",
        "at.plot(history.history['accuracy'], c= 'b')\n",
        "at.plot(history.history['val_accuracy'], c='r')\n",
        "at.set_title('model accuracy')\n",
        "at.set_ylabel('accuracy')\n",
        "at.set_xlabel('epoch')\n",
        "at.legend(['train', 'val'], loc='upper left')\n",
        "\n",
        "al.plot(history.history['loss'], c='m')\n",
        "al.plot(history.history['val_loss'], c='c')\n",
        "al.set_title('model loss')\n",
        "al.set_ylabel('loss')\n",
        "al.set_xlabel('epoch')\n",
        "al.legend(['train', 'val'], loc = 'upper left')"
      ],
      "execution_count": null,
      "outputs": [
        {
          "output_type": "execute_result",
          "data": {
            "text/plain": [
              "<matplotlib.legend.Legend at 0x7f9ebbd44a50>"
            ]
          },
          "metadata": {
            "tags": []
          },
          "execution_count": 24
        },
        {
          "output_type": "display_data",
          "data": {
            "image/png": "[encoded data removed]",
            "text/plain": [
              "<Figure size 432x288 with 2 Axes>"
            ]
          },
          "metadata": {
            "tags": [],
            "needs_background": "light"
          }
        }
      ]
    },
    {
      "cell_type": "code",
      "metadata": {
        "execution": {
          "iopub.execute_input": "2021-05-25T15:02:41.610971Z",
          "iopub.status.busy": "2021-05-25T15:02:41.610576Z",
          "iopub.status.idle": "2021-05-25T15:03:19.070103Z",
          "shell.execute_reply": "2021-05-25T15:03:19.069148Z",
          "shell.execute_reply.started": "2021-05-25T15:02:41.610906Z"
        },
        "colab": {
          "base_uri": "https://localhost:8080/"
        },
        "id": "BvRFXzoMx7d1",
        "outputId": "c30a5679-be3d-4818-adb8-c9070ae29500"
      },
      "source": [
        "x_test_target = pad_sequences(tokenizer.texts_to_sequences(test_data.headline),\n",
        "                       maxlen = MAX_SEQUENCE_LENGTH)\n",
        "print(\"Target testing X Shape:\",x_test_target.shape)\n",
        "\n",
        "\n",
        "y_pred_1d = model.predict(x_test_target, verbose=1, batch_size=10000)\n"
      ],
      "execution_count": null,
      "outputs": [
        {
          "output_type": "stream",
          "text": [
            "Target testing X Shape: (1865750, 30)\n",
            "187/187 [==============================] - 21s 110ms/step\n"
          ],
          "name": "stdout"
        }
      ]
    },
    {
      "cell_type": "code",
      "metadata": {
        "colab": {
          "base_uri": "https://localhost:8080/"
        },
        "id": "lMqBo4isNtbB",
        "outputId": "dfd85ed6-7314-4c8f-9648-92380aee82ce"
      },
      "source": [
        "\n",
        "result = []\n",
        "for item in y_pred_1d:\n",
        "  result.append(item.tolist().index(max(item.tolist())))\n",
        "\n",
        "print(result)"
      ],
      "execution_count": null,
      "outputs": [
        {
          "output_type": "stream",
          "text": [
            "IOPub data rate exceeded.\n",
            "The notebook server will temporarily stop sending output\n",
            "to the client in order to avoid crashing it.\n",
            "To change this limit, set the config variable\n",
            "`--NotebookApp.iopub_data_rate_limit`.\n",
            "\n",
            "Current values:\n",
            "NotebookApp.iopub_data_rate_limit=1000000.0 (bytes/sec)\n",
            "NotebookApp.rate_limit_window=3.0 (secs)\n",
            "\n"
          ],
          "name": "stderr"
        }
      ]
    },
    {
      "cell_type": "code",
      "metadata": {
        "colab": {
          "base_uri": "https://localhost:8080/"
        },
        "id": "wd2Vc7nKTdPP",
        "outputId": "6b74fa74-b4d4-457f-9c4a-c5f82de04076"
      },
      "source": [
        "resultT = []\n",
        "for item in y_test:\n",
        "  resultT.append(item.tolist().index(max(item.tolist())))\n",
        "\n",
        "print(resultT)\n",
        "\n"
      ],
      "execution_count": null,
      "outputs": [
        {
          "output_type": "stream",
          "text": [
            "IOPub data rate exceeded.\n",
            "The notebook server will temporarily stop sending output\n",
            "to the client in order to avoid crashing it.\n",
            "To change this limit, set the config variable\n",
            "`--NotebookApp.iopub_data_rate_limit`.\n",
            "\n",
            "Current values:\n",
            "NotebookApp.iopub_data_rate_limit=1000000.0 (bytes/sec)\n",
            "NotebookApp.rate_limit_window=3.0 (secs)\n",
            "\n"
          ],
          "name": "stderr"
        }
      ]
    },
    {
      "cell_type": "code",
      "metadata": {
        "execution": {
          "iopub.execute_input": "2021-05-25T15:03:19.073058Z",
          "iopub.status.busy": "2021-05-25T15:03:19.072572Z",
          "iopub.status.idle": "2021-05-25T15:03:19.090575Z",
          "shell.execute_reply": "2021-05-25T15:03:19.089179Z",
          "shell.execute_reply.started": "2021-05-25T15:03:19.072987Z"
        },
        "id": "QSfasEYLx7d2"
      },
      "source": [
        "import itertools\n",
        "from sklearn.metrics import confusion_matrix, classification_report, accuracy_score\n",
        "def plot_confusion_matrix(cm, classes,\n",
        "                          title='Confusion matrix',\n",
        "                          cmap=plt.cm.Blues):\n",
        "    \"\"\"\n",
        "    This function prints and plots the confusion matrix.\n",
        "    Normalization can be applied by setting `normalize=True`.\n",
        "    \"\"\"\n",
        "\n",
        "    cm = cm.astype('float') / cm.sum(axis=1)[:, np.newaxis]\n",
        "\n",
        "    plt.imshow(cm, interpolation='nearest', cmap=cmap)\n",
        "    plt.title(title, fontsize=20)\n",
        "    plt.colorbar()\n",
        "    tick_marks = np.arange(len(classes))\n",
        "    plt.xticks(tick_marks, classes, fontsize=13)\n",
        "    plt.yticks(tick_marks, classes, fontsize=13)\n",
        "\n",
        "    fmt = '.2f'\n",
        "    thresh = cm.max() / 3\n",
        "    for i, j in itertools.product(range(cm.shape[0]), range(cm.shape[1])):\n",
        "        plt.text(j, i, format(cm[i, j], fmt),\n",
        "                 horizontalalignment=\"center\",\n",
        "                 color=\"white\" if cm[i, j] > thresh else \"black\")\n",
        "\n",
        "    plt.ylabel('True label', fontsize=17)\n",
        "    plt.xlabel('Predicted label', fontsize=17)"
      ],
      "execution_count": null,
      "outputs": []
    },
    {
      "cell_type": "code",
      "metadata": {
        "execution": {
          "iopub.execute_input": "2021-05-25T15:03:19.093556Z",
          "iopub.status.busy": "2021-05-25T15:03:19.093047Z",
          "iopub.status.idle": "2021-05-25T15:03:20.533399Z",
          "shell.execute_reply": "2021-05-25T15:03:20.532344Z",
          "shell.execute_reply.started": "2021-05-25T15:03:19.093488Z"
        },
        "colab": {
          "base_uri": "https://localhost:8080/",
          "height": 370
        },
        "id": "9Nf0JSPKx7d2",
        "outputId": "95a388d1-2079-4eca-f15e-37f3ef706634"
      },
      "source": [
        "cnf_matrix = confusion_matrix(resultT, result)\n",
        "cnf_matrix.shape\n",
        "plt.figure(figsize=(6,6))\n",
        "plot_confusion_matrix(cnf_matrix, classes=[\"Negative\",\"Neutral\",\"Positive\"], title=\"Confusion matrix\")\n",
        "plt.show()"
      ],
      "execution_count": null,
      "outputs": [
        {
          "output_type": "display_data",
          "data": {
            "image/png": "[encoded data removed]",
            "text/plain": [
              "<Figure size 432x432 with 2 Axes>"
            ]
          },
          "metadata": {
            "tags": [],
            "needs_background": "light"
          }
        }
      ]
    },
    {
      "cell_type": "markdown",
      "metadata": {
        "id": "fZhUTAE6x7d2"
      },
      "source": [
        "### Classification Scores"
      ]
    },
    {
      "cell_type": "code",
      "metadata": {
        "execution": {
          "iopub.execute_input": "2021-05-25T15:03:20.535180Z",
          "iopub.status.busy": "2021-05-25T15:03:20.534858Z",
          "iopub.status.idle": "2021-05-25T15:03:24.564385Z",
          "shell.execute_reply": "2021-05-25T15:03:24.563190Z",
          "shell.execute_reply.started": "2021-05-25T15:03:20.535127Z"
        },
        "colab": {
          "base_uri": "https://localhost:8080/"
        },
        "id": "pdMXlGBtx7d2",
        "outputId": "5ece015e-eb8f-4695-fb5a-99050257256b"
      },
      "source": [
        "print(classification_report(resultT, result))"
      ],
      "execution_count": null,
      "outputs": [
        {
          "output_type": "stream",
          "text": [
            "              precision    recall  f1-score   support\n",
            "\n",
            "           0       0.74      0.73      0.73    561910\n",
            "           1       0.82      0.69      0.75    579743\n",
            "           2       0.70      0.79      0.74    724097\n",
            "\n",
            "    accuracy                           0.74   1865750\n",
            "   macro avg       0.75      0.74      0.74   1865750\n",
            "weighted avg       0.75      0.74      0.74   1865750\n",
            "\n"
          ],
          "name": "stdout"
        }
      ]
    },
    {
      "cell_type": "code",
      "metadata": {
        "id": "Qim0KTQLmm_d"
      },
      "source": [
        "function ClickConnect(){\n",
        "console.log(\"Working\"); \n",
        "document\n",
        "  .querySelector('#top-toolbar > colab-connect-button')\n",
        "  .shadowRoot.querySelector('#connect')\n",
        "  .click() \n",
        "}\n",
        "setInterval(ClickConnect,60000)"
      ],
      "execution_count": null,
      "outputs": []
    },
    {
      "cell_type": "code",
      "metadata": {
        "colab": {
          "base_uri": "https://localhost:8080/"
        },
        "id": "-1vSnIC6VUlO",
        "outputId": "8809d37a-4b4b-4dc4-8d80-d2e7e5efdea2"
      },
      "source": [
        "from tensorflow import keras\n",
        "model = keras.models.load_model('/content/gdrive/MyDrive/news_train_from2013_model_3.h5')"
      ],
      "execution_count": 4,
      "outputs": [
        {
          "output_type": "stream",
          "text": [
            "WARNING:tensorflow:Layer lstm will not use cuDNN kernels since it doesn't meet the criteria. It will use a generic GPU kernel as fallback when running on GPU.\n",
            "WARNING:tensorflow:Layer lstm will not use cuDNN kernels since it doesn't meet the criteria. It will use a generic GPU kernel as fallback when running on GPU.\n",
            "WARNING:tensorflow:Layer lstm will not use cuDNN kernels since it doesn't meet the criteria. It will use a generic GPU kernel as fallback when running on GPU.\n"
          ],
          "name": "stdout"
        }
      ]
    },
    {
      "cell_type": "code",
      "metadata": {
        "id": "T6jarnMDV5W9"
      },
      "source": [
        "import datetime\n",
        "import calendar\n",
        "\n",
        "def add_months(sourcedate, months):\n",
        "    month = sourcedate.month - 1 + months\n",
        "    year = sourcedate.year + month // 12\n",
        "    month = month % 12 + 1\n",
        "    day = min(sourcedate.day, calendar.monthrange(year,month)[1])\n",
        "    return datetime.date(year, month, day)"
      ],
      "execution_count": 46,
      "outputs": []
    },
    {
      "cell_type": "code",
      "metadata": {
        "colab": {
          "base_uri": "https://localhost:8080/"
        },
        "id": "rgut9gw5axIN",
        "outputId": "2383eb8c-8f77-46f7-ab37-73537f748d29"
      },
      "source": [
        "import datetime\n",
        "\n",
        "total = []\n",
        "total_count = 0\n",
        "for i in range(2000,2021):\n",
        "  for j in range(1,13):\n",
        "    path = \"/content/gdrive/MyDrive/informationData/\" + str(i) + \"_\" + str(j) + \".csv\"\n",
        "    target = pd.read_csv(path,encoding = 'utf-8')\n",
        "    target.headline = target.headline.apply(lambda x: toString(x))\n",
        "    target_test = pad_sequences(tokenizer.texts_to_sequences(target.headline),\n",
        "                          maxlen = MAX_SEQUENCE_LENGTH)\n",
        "    y_pred_target = model.predict(target_test, verbose=1, batch_size=10000)\n",
        "\n",
        "    scores = 0\n",
        "    for item in y_pred_target:\n",
        "      total_count = total_count + 1\n",
        "      result = item.tolist().index(max(item.tolist()))\n",
        "      if result == 0:\n",
        "        scores = scores - 1\n",
        "      elif result == 2:\n",
        "        scores = scores + 1\n",
        "      else:\n",
        "        scores = scores + 0\n",
        "    \n",
        "    \n",
        "    d = datetime.date(i, j, 1)\n",
        "    d = add_months(d,1)\n",
        "    temp = []\n",
        "    temp.append(d)\n",
        "    temp.append(scores)\n",
        "    # print(str(d)+'='+str(scores))\n",
        "    total.append(temp)\n",
        "\n",
        "print(total_count)\n",
        "total_path = \"/content/gdrive/MyDrive/informationData/total.csv\"\n",
        "header = ['date','scores']\n",
        "with open(total_path, \"w\", encoding=\"utf-8\") as f:\n",
        "  writer = csv.writer(f,delimiter=',')\n",
        "  writer.writerow(header)\n",
        "  writer.writerows(total)\n",
        "  f.close()"
      ],
      "execution_count": 62,
      "outputs": [
        {
          "output_type": "stream",
          "text": [
            "1/1 [==============================] - 0s 47ms/step\n",
            "1/1 [==============================] - 0s 44ms/step\n",
            "1/1 [==============================] - 0s 44ms/step\n",
            "1/1 [==============================] - 0s 45ms/step\n",
            "1/1 [==============================] - 0s 44ms/step\n",
            "1/1 [==============================] - 0s 47ms/step\n",
            "1/1 [==============================] - 0s 44ms/step\n",
            "1/1 [==============================] - 0s 44ms/step\n",
            "1/1 [==============================] - 0s 44ms/step\n",
            "1/1 [==============================] - 0s 45ms/step\n",
            "1/1 [==============================] - 0s 51ms/step\n",
            "1/1 [==============================] - 0s 45ms/step\n",
            "1/1 [==============================] - 0s 43ms/step\n",
            "1/1 [==============================] - 0s 41ms/step\n",
            "1/1 [==============================] - 0s 51ms/step\n",
            "1/1 [==============================] - 0s 46ms/step\n",
            "1/1 [==============================] - 0s 49ms/step\n",
            "1/1 [==============================] - 0s 46ms/step\n",
            "1/1 [==============================] - 0s 48ms/step\n",
            "1/1 [==============================] - 0s 46ms/step\n",
            "1/1 [==============================] - 0s 50ms/step\n",
            "1/1 [==============================] - 0s 56ms/step\n",
            "1/1 [==============================] - 0s 61ms/step\n",
            "1/1 [==============================] - 0s 58ms/step\n",
            "1/1 [==============================] - 0s 52ms/step\n",
            "1/1 [==============================] - 0s 48ms/step\n",
            "1/1 [==============================] - 0s 45ms/step\n",
            "1/1 [==============================] - 0s 51ms/step\n",
            "1/1 [==============================] - 0s 52ms/step\n",
            "1/1 [==============================] - 0s 51ms/step\n",
            "1/1 [==============================] - 0s 45ms/step\n",
            "1/1 [==============================] - 0s 46ms/step\n",
            "1/1 [==============================] - 0s 47ms/step\n",
            "1/1 [==============================] - 0s 53ms/step\n",
            "1/1 [==============================] - 0s 54ms/step\n",
            "1/1 [==============================] - 0s 47ms/step\n",
            "1/1 [==============================] - 0s 53ms/step\n",
            "1/1 [==============================] - 0s 54ms/step\n",
            "1/1 [==============================] - 0s 55ms/step\n",
            "1/1 [==============================] - 0s 52ms/step\n",
            "1/1 [==============================] - 0s 51ms/step\n",
            "1/1 [==============================] - 0s 47ms/step\n",
            "1/1 [==============================] - 0s 44ms/step\n",
            "1/1 [==============================] - 0s 44ms/step\n",
            "1/1 [==============================] - 0s 47ms/step\n",
            "1/1 [==============================] - 0s 47ms/step\n",
            "1/1 [==============================] - 0s 45ms/step\n",
            "1/1 [==============================] - 0s 45ms/step\n",
            "1/1 [==============================] - 0s 50ms/step\n",
            "1/1 [==============================] - 0s 48ms/step\n",
            "1/1 [==============================] - 0s 56ms/step\n",
            "1/1 [==============================] - 0s 45ms/step\n",
            "1/1 [==============================] - 0s 51ms/step\n",
            "1/1 [==============================] - 0s 44ms/step\n",
            "1/1 [==============================] - 0s 50ms/step\n",
            "1/1 [==============================] - 0s 44ms/step\n",
            "1/1 [==============================] - 0s 53ms/step\n",
            "1/1 [==============================] - 0s 45ms/step\n",
            "1/1 [==============================] - 0s 43ms/step\n",
            "1/1 [==============================] - 0s 47ms/step\n",
            "1/1 [==============================] - 0s 53ms/step\n",
            "1/1 [==============================] - 0s 43ms/step\n",
            "1/1 [==============================] - 0s 42ms/step\n",
            "1/1 [==============================] - 0s 42ms/step\n",
            "1/1 [==============================] - 0s 44ms/step\n",
            "1/1 [==============================] - 0s 44ms/step\n",
            "1/1 [==============================] - 0s 43ms/step\n",
            "1/1 [==============================] - 0s 42ms/step\n",
            "1/1 [==============================] - 0s 47ms/step\n",
            "1/1 [==============================] - 0s 50ms/step\n",
            "1/1 [==============================] - 0s 41ms/step\n",
            "1/1 [==============================] - 0s 43ms/step\n",
            "1/1 [==============================] - 0s 44ms/step\n",
            "1/1 [==============================] - 0s 40ms/step\n",
            "1/1 [==============================] - 0s 56ms/step\n",
            "1/1 [==============================] - 0s 59ms/step\n",
            "1/1 [==============================] - 0s 77ms/step\n",
            "1/1 [==============================] - 0s 74ms/step\n",
            "1/1 [==============================] - 0s 72ms/step\n",
            "1/1 [==============================] - 0s 71ms/step\n",
            "1/1 [==============================] - 0s 73ms/step\n",
            "1/1 [==============================] - 0s 69ms/step\n",
            "1/1 [==============================] - 0s 69ms/step\n",
            "1/1 [==============================] - 0s 70ms/step\n",
            "1/1 [==============================] - 0s 54ms/step\n",
            "1/1 [==============================] - 0s 48ms/step\n",
            "1/1 [==============================] - 0s 51ms/step\n",
            "1/1 [==============================] - 0s 49ms/step\n",
            "1/1 [==============================] - 0s 50ms/step\n",
            "1/1 [==============================] - 0s 51ms/step\n",
            "1/1 [==============================] - 0s 54ms/step\n",
            "1/1 [==============================] - 0s 51ms/step\n",
            "1/1 [==============================] - 0s 54ms/step\n",
            "1/1 [==============================] - 0s 58ms/step\n",
            "1/1 [==============================] - 0s 52ms/step\n",
            "1/1 [==============================] - 0s 53ms/step\n",
            "1/1 [==============================] - 0s 59ms/step\n",
            "1/1 [==============================] - 0s 54ms/step\n",
            "1/1 [==============================] - 0s 55ms/step\n",
            "1/1 [==============================] - 0s 63ms/step\n",
            "1/1 [==============================] - 0s 56ms/step\n",
            "1/1 [==============================] - 0s 55ms/step\n",
            "1/1 [==============================] - 0s 52ms/step\n",
            "1/1 [==============================] - 0s 53ms/step\n",
            "1/1 [==============================] - 0s 55ms/step\n",
            "1/1 [==============================] - 0s 60ms/step\n",
            "1/1 [==============================] - 0s 53ms/step\n",
            "1/1 [==============================] - 0s 53ms/step\n",
            "1/1 [==============================] - 0s 61ms/step\n",
            "1/1 [==============================] - 0s 53ms/step\n",
            "1/1 [==============================] - 0s 56ms/step\n",
            "1/1 [==============================] - 0s 56ms/step\n",
            "1/1 [==============================] - 0s 52ms/step\n",
            "1/1 [==============================] - 0s 57ms/step\n",
            "1/1 [==============================] - 0s 59ms/step\n",
            "1/1 [==============================] - 0s 53ms/step\n",
            "1/1 [==============================] - 0s 56ms/step\n",
            "1/1 [==============================] - 0s 55ms/step\n",
            "1/1 [==============================] - 0s 52ms/step\n",
            "1/1 [==============================] - 0s 53ms/step\n",
            "1/1 [==============================] - 0s 55ms/step\n",
            "1/1 [==============================] - 0s 61ms/step\n",
            "1/1 [==============================] - 0s 56ms/step\n",
            "1/1 [==============================] - 0s 57ms/step\n",
            "1/1 [==============================] - 0s 53ms/step\n",
            "1/1 [==============================] - 0s 54ms/step\n",
            "1/1 [==============================] - 0s 55ms/step\n",
            "1/1 [==============================] - 0s 53ms/step\n",
            "1/1 [==============================] - 0s 48ms/step\n",
            "1/1 [==============================] - 0s 49ms/step\n",
            "1/1 [==============================] - 0s 42ms/step\n",
            "1/1 [==============================] - 0s 41ms/step\n",
            "1/1 [==============================] - 0s 41ms/step\n",
            "1/1 [==============================] - 0s 40ms/step\n",
            "1/1 [==============================] - 0s 43ms/step\n",
            "1/1 [==============================] - 0s 45ms/step\n",
            "1/1 [==============================] - 0s 42ms/step\n",
            "1/1 [==============================] - 0s 41ms/step\n",
            "1/1 [==============================] - 0s 39ms/step\n",
            "1/1 [==============================] - 0s 39ms/step\n",
            "1/1 [==============================] - 0s 40ms/step\n",
            "1/1 [==============================] - 0s 41ms/step\n",
            "1/1 [==============================] - 0s 46ms/step\n",
            "1/1 [==============================] - 0s 38ms/step\n",
            "1/1 [==============================] - 0s 39ms/step\n",
            "1/1 [==============================] - 0s 40ms/step\n",
            "1/1 [==============================] - 0s 40ms/step\n",
            "1/1 [==============================] - 0s 42ms/step\n",
            "1/1 [==============================] - 0s 39ms/step\n",
            "1/1 [==============================] - 0s 41ms/step\n",
            "1/1 [==============================] - 0s 38ms/step\n",
            "1/1 [==============================] - 0s 40ms/step\n",
            "1/1 [==============================] - 0s 40ms/step\n",
            "1/1 [==============================] - 0s 41ms/step\n",
            "1/1 [==============================] - 0s 40ms/step\n",
            "1/1 [==============================] - 0s 38ms/step\n",
            "1/1 [==============================] - 0s 40ms/step\n",
            "1/1 [==============================] - 0s 39ms/step\n",
            "1/1 [==============================] - 0s 41ms/step\n",
            "1/1 [==============================] - 0s 45ms/step\n",
            "1/1 [==============================] - 0s 41ms/step\n",
            "1/1 [==============================] - 0s 44ms/step\n",
            "1/1 [==============================] - 0s 39ms/step\n",
            "1/1 [==============================] - 0s 36ms/step\n",
            "1/1 [==============================] - 0s 39ms/step\n",
            "1/1 [==============================] - 0s 44ms/step\n",
            "1/1 [==============================] - 0s 45ms/step\n",
            "1/1 [==============================] - 0s 41ms/step\n",
            "1/1 [==============================] - 0s 42ms/step\n",
            "1/1 [==============================] - 0s 42ms/step\n",
            "1/1 [==============================] - 0s 51ms/step\n",
            "1/1 [==============================] - 0s 49ms/step\n",
            "1/1 [==============================] - 0s 49ms/step\n",
            "1/1 [==============================] - 0s 52ms/step\n",
            "1/1 [==============================] - 0s 46ms/step\n",
            "1/1 [==============================] - 0s 52ms/step\n",
            "1/1 [==============================] - 0s 46ms/step\n",
            "1/1 [==============================] - 0s 53ms/step\n",
            "1/1 [==============================] - 0s 45ms/step\n",
            "1/1 [==============================] - 0s 45ms/step\n",
            "1/1 [==============================] - 0s 45ms/step\n",
            "1/1 [==============================] - 0s 41ms/step\n",
            "1/1 [==============================] - 0s 43ms/step\n",
            "1/1 [==============================] - 0s 42ms/step\n",
            "1/1 [==============================] - 0s 46ms/step\n",
            "1/1 [==============================] - 0s 50ms/step\n",
            "1/1 [==============================] - 0s 46ms/step\n",
            "1/1 [==============================] - 0s 43ms/step\n",
            "1/1 [==============================] - 0s 44ms/step\n",
            "1/1 [==============================] - 0s 45ms/step\n",
            "1/1 [==============================] - 0s 45ms/step\n",
            "1/1 [==============================] - 0s 45ms/step\n",
            "1/1 [==============================] - 0s 44ms/step\n",
            "1/1 [==============================] - 0s 45ms/step\n",
            "1/1 [==============================] - 0s 43ms/step\n",
            "1/1 [==============================] - 0s 44ms/step\n",
            "1/1 [==============================] - 0s 40ms/step\n",
            "1/1 [==============================] - 0s 47ms/step\n",
            "1/1 [==============================] - 0s 43ms/step\n",
            "1/1 [==============================] - 0s 45ms/step\n",
            "1/1 [==============================] - 0s 49ms/step\n",
            "1/1 [==============================] - 0s 42ms/step\n",
            "1/1 [==============================] - 0s 40ms/step\n",
            "1/1 [==============================] - 0s 39ms/step\n",
            "1/1 [==============================] - 0s 40ms/step\n",
            "1/1 [==============================] - 0s 39ms/step\n",
            "1/1 [==============================] - 0s 46ms/step\n",
            "1/1 [==============================] - 0s 44ms/step\n",
            "1/1 [==============================] - 0s 41ms/step\n",
            "1/1 [==============================] - 0s 44ms/step\n",
            "1/1 [==============================] - 0s 42ms/step\n",
            "1/1 [==============================] - 0s 47ms/step\n",
            "1/1 [==============================] - 0s 41ms/step\n",
            "1/1 [==============================] - 0s 40ms/step\n",
            "1/1 [==============================] - 0s 37ms/step\n",
            "1/1 [==============================] - 0s 37ms/step\n",
            "1/1 [==============================] - 0s 38ms/step\n",
            "1/1 [==============================] - 0s 36ms/step\n",
            "1/1 [==============================] - 0s 38ms/step\n",
            "1/1 [==============================] - 0s 38ms/step\n",
            "1/1 [==============================] - 0s 37ms/step\n",
            "1/1 [==============================] - 0s 38ms/step\n",
            "1/1 [==============================] - 0s 39ms/step\n",
            "1/1 [==============================] - 0s 49ms/step\n",
            "1/1 [==============================] - 0s 37ms/step\n",
            "1/1 [==============================] - 0s 40ms/step\n",
            "1/1 [==============================] - 0s 38ms/step\n",
            "1/1 [==============================] - 0s 37ms/step\n",
            "1/1 [==============================] - 0s 40ms/step\n",
            "1/1 [==============================] - 0s 38ms/step\n",
            "1/1 [==============================] - 0s 40ms/step\n",
            "1/1 [==============================] - 0s 43ms/step\n",
            "1/1 [==============================] - 0s 38ms/step\n",
            "1/1 [==============================] - 0s 39ms/step\n",
            "1/1 [==============================] - 0s 39ms/step\n",
            "1/1 [==============================] - 0s 36ms/step\n",
            "1/1 [==============================] - 0s 36ms/step\n",
            "1/1 [==============================] - 0s 37ms/step\n",
            "1/1 [==============================] - 0s 39ms/step\n",
            "1/1 [==============================] - 0s 36ms/step\n",
            "1/1 [==============================] - 0s 41ms/step\n",
            "1/1 [==============================] - 0s 37ms/step\n",
            "1/1 [==============================] - 0s 39ms/step\n",
            "1/1 [==============================] - 0s 41ms/step\n",
            "1/1 [==============================] - 0s 42ms/step\n",
            "1/1 [==============================] - 0s 38ms/step\n",
            "1/1 [==============================] - 0s 36ms/step\n",
            "1/1 [==============================] - 0s 37ms/step\n",
            "1/1 [==============================] - 0s 36ms/step\n",
            "1/1 [==============================] - 0s 38ms/step\n",
            "1/1 [==============================] - 0s 45ms/step\n",
            "1/1 [==============================] - 0s 41ms/step\n",
            "570354\n"
          ],
          "name": "stdout"
        }
      ]
    },
    {
      "cell_type": "code",
      "metadata": {
        "id": "KrbfGOAV__le"
      },
      "source": [
        "import pandas as pd\n",
        "from sklearn import preprocessing\n",
        "total_path = \"/content/gdrive/MyDrive/informationData/total.csv\"\n",
        "target = pd.read_csv(total_path,encoding = 'utf-8')\n",
        "target = target.drop(['date'], axis=1)\n",
        "x = target.values\n",
        "min_max_scaler = preprocessing.StandardScaler()\n",
        "x_scaled = min_max_scaler.fit_transform(x)\n",
        "df = pd.DataFrame(x_scaled,columns=['scores'])\n",
        "targetSouce = pd.read_csv(total_path,encoding = 'utf-8')\n",
        "targetSouce = targetSouce.drop(['scores'], axis=1)\n",
        "test = pd.concat([targetSouce, df], axis=1)\n",
        "test.head()\n",
        "test.to_csv(\"/content/gdrive/MyDrive/informationData/informationTotal.csv\",index = False)\n",
        "\n"
      ],
      "execution_count": 84,
      "outputs": []
    },
    {
      "cell_type": "code",
      "metadata": {
        "colab": {
          "base_uri": "https://localhost:8080/",
          "height": 297
        },
        "id": "R2Hl4LQCJxzq",
        "outputId": "7f694350-5a07-47f8-c498-5d136cb067dc"
      },
      "source": [
        "target.describe()"
      ],
      "execution_count": 87,
      "outputs": [
        {
          "output_type": "execute_result",
          "data": {
            "text/html": [
              "<div>\n",
              "<style scoped>\n",
              "    .dataframe tbody tr th:only-of-type {\n",
              "        vertical-align: middle;\n",
              "    }\n",
              "\n",
              "    .dataframe tbody tr th {\n",
              "        vertical-align: top;\n",
              "    }\n",
              "\n",
              "    .dataframe thead th {\n",
              "        text-align: right;\n",
              "    }\n",
              "</style>\n",
              "<table border=\"1\" class=\"dataframe\">\n",
              "  <thead>\n",
              "    <tr style=\"text-align: right;\">\n",
              "      <th></th>\n",
              "      <th>scores</th>\n",
              "    </tr>\n",
              "  </thead>\n",
              "  <tbody>\n",
              "    <tr>\n",
              "      <th>count</th>\n",
              "      <td>252.000000</td>\n",
              "    </tr>\n",
              "    <tr>\n",
              "      <th>mean</th>\n",
              "      <td>-821.785714</td>\n",
              "    </tr>\n",
              "    <tr>\n",
              "      <th>std</th>\n",
              "      <td>188.131539</td>\n",
              "    </tr>\n",
              "    <tr>\n",
              "      <th>min</th>\n",
              "      <td>-1444.000000</td>\n",
              "    </tr>\n",
              "    <tr>\n",
              "      <th>25%</th>\n",
              "      <td>-909.250000</td>\n",
              "    </tr>\n",
              "    <tr>\n",
              "      <th>50%</th>\n",
              "      <td>-801.500000</td>\n",
              "    </tr>\n",
              "    <tr>\n",
              "      <th>75%</th>\n",
              "      <td>-709.500000</td>\n",
              "    </tr>\n",
              "    <tr>\n",
              "      <th>max</th>\n",
              "      <td>-304.000000</td>\n",
              "    </tr>\n",
              "  </tbody>\n",
              "</table>\n",
              "</div>"
            ],
            "text/plain": [
              "            scores\n",
              "count   252.000000\n",
              "mean   -821.785714\n",
              "std     188.131539\n",
              "min   -1444.000000\n",
              "25%    -909.250000\n",
              "50%    -801.500000\n",
              "75%    -709.500000\n",
              "max    -304.000000"
            ]
          },
          "metadata": {
            "tags": []
          },
          "execution_count": 87
        }
      ]
    },
    {
      "cell_type": "code",
      "metadata": {
        "colab": {
          "base_uri": "https://localhost:8080/",
          "height": 315
        },
        "id": "P9HWRj4PLBnx",
        "outputId": "970b99ea-4b20-4f1e-d110-77dd88ed297d"
      },
      "source": [
        "target.hist()\n"
      ],
      "execution_count": 89,
      "outputs": [
        {
          "output_type": "execute_result",
          "data": {
            "text/plain": [
              "array([[<matplotlib.axes._subplots.AxesSubplot object at 0x7f1caf071850>]],\n",
              "      dtype=object)"
            ]
          },
          "metadata": {
            "tags": []
          },
          "execution_count": 89
        },
        {
          "output_type": "display_data",
          "data": {
            "image/png": "[encoded data removed]",
            "text/plain": [
              "<Figure size 432x288 with 1 Axes>"
            ]
          },
          "metadata": {
            "tags": [],
            "needs_background": "light"
          }
        }
      ]
    }
  ]
}